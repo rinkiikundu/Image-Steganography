{
 "cells": [
  {
   "cell_type": "code",
   "execution_count": 1,
   "metadata": {},
   "outputs": [],
   "source": [
    "from PIL import Image "
   ]
  },
  {
   "cell_type": "code",
   "execution_count": 2,
   "metadata": {},
   "outputs": [],
   "source": [
    "def genData(data): \n",
    "          \n",
    "        # list of binary codes \n",
    "        # of given data \n",
    "        newd = []  \n",
    "          \n",
    "        for i in data: \n",
    "            newd.append(format(ord(i), '08b')) \n",
    "        return newd "
   ]
  },
  {
   "cell_type": "code",
   "execution_count": 14,
   "metadata": {},
   "outputs": [
    {
     "ename": "SyntaxError",
     "evalue": "invalid syntax (<ipython-input-14-244cdff9e47b>, line 21)",
     "output_type": "error",
     "traceback": [
      "\u001b[1;36m  File \u001b[1;32m\"<ipython-input-14-244cdff9e47b>\"\u001b[1;36m, line \u001b[1;32m21\u001b[0m\n\u001b[1;33m    elif datalist[i][j] == '1' and (pix[j] % 2 == 0):\u001b[0m\n\u001b[1;37m       ^\u001b[0m\n\u001b[1;31mSyntaxError\u001b[0m\u001b[1;31m:\u001b[0m invalid syntax\n"
     ]
    }
   ],
   "source": [
    "def modPix(pix, data): \n",
    "      \n",
    "    datalist = genData(data) \n",
    "    lendata = len(datalist) \n",
    "    imdata = iter(pix) \n",
    "  \n",
    "    for i in range(lendata): \n",
    "          \n",
    "        # Extracting 3 pixels at a time \n",
    "        pix = [value for value in imdata.__next__()[:3] +\n",
    "                                  imdata.__next__()[:3] +\n",
    "                                  imdata.__next__()[:3]] \n",
    "                                      \n",
    "        # Pixel value should be made  \n",
    "        # odd for 1 and even for 0 \n",
    "        for j in range(0, 8): \n",
    "            if (datalist[i][j]=='0') and (pix[j]% 2 != 0): \n",
    "                  \n",
    "                if (pix[j]% 2 != 0): \n",
    "                    pix[j] -= 1\n",
    "                    elif (datalist[i][j] == '1') and (pix[j] % 2 == 0): \n",
    "                pix[j] -= 1\n",
    "                  \n",
    "        # Eighth pixel of every set tells  \n",
    "        # whether to stop ot read further. \n",
    "        # 0 means keep reading; 1 means the \n",
    "        # message is over. \n",
    "        if (i == lendata - 1): \n",
    "            if (pix[-1] % 2 == 0): \n",
    "                pix[-1] -= 1\n",
    "        else: \n",
    "            if (pix[-1] % 2 != 0): \n",
    "                pix[-1] -= 1\n",
    "  \n",
    "        pix = tuple(pix) \n",
    "        yield pix[0:3] \n",
    "        yield pix[3:6] \n",
    "        yield pix[6:9] \n",
    "  \n"
   ]
  },
  {
   "cell_type": "code",
   "execution_count": 9,
   "metadata": {},
   "outputs": [],
   "source": [
    "def encode_enc(newimg, data): \n",
    "    w = newimg.size[0] \n",
    "    (x, y) = (0, 0) \n",
    "      \n",
    "    for pixel in modPix(newimg.getdata(), data): \n",
    "          \n",
    "        # Putting modified pixels in the new image \n",
    "        newimg.putpixel((x, y), pixel) \n",
    "        if (x == w - 1): \n",
    "            x = 0\n",
    "            y+= 1\n",
    "        else: \n",
    "            x += 1"
   ]
  },
  {
   "cell_type": "code",
   "execution_count": 10,
   "metadata": {},
   "outputs": [],
   "source": [
    "def encode(): \n",
    "    img = input(\"Enter image name(with extension): \") \n",
    "    image = Image.open(img, 'r') \n",
    "      \n",
    "    data = input(\"Enter data to be encoded : \") \n",
    "    if (len(data) == 0): \n",
    "        raise ValueError('Data is empty') \n",
    "          \n",
    "    newimg = image.copy() \n",
    "    encode_enc(newimg, data) \n",
    "      \n",
    "    new_img_name = input(\"Enter the name of new image(with extension): \") \n",
    "    newimg.save(new_img_name, str(new_img_name.split(\".\")[1].upper())) "
   ]
  },
  {
   "cell_type": "code",
   "execution_count": 11,
   "metadata": {},
   "outputs": [],
   "source": [
    "def decode(): \n",
    "    img = input(\"Enter image name(with extension) :\") \n",
    "    image = Image.open(img, 'r') \n",
    "      \n",
    "    data = '' \n",
    "    imgdata = iter(image.getdata()) \n",
    "      \n",
    "    while (True): \n",
    "        pixels = [value for value in imgdata.__next__()[:3] +\n",
    "                                  imgdata.__next__()[:3] +\n",
    "                                  imgdata.__next__()[:3]] \n",
    "        # string of binary data \n",
    "        binstr = '' \n",
    "          \n",
    "        for i in pixels[:8]: \n",
    "            if (i % 2 == 0): \n",
    "                binstr += '0'\n",
    "            else: \n",
    "                binstr += '1'\n",
    "                  \n",
    "        data += chr(int(binstr, 2)) \n",
    "        if (pixels[-1] % 2 != 0): \n",
    "            return data "
   ]
  },
  {
   "cell_type": "code",
   "execution_count": 12,
   "metadata": {},
   "outputs": [
    {
     "name": "stdout",
     "output_type": "stream",
     "text": [
      ":: Welcome to Steganography ::\n",
      "1. Encode\n",
      " 2. Decode\n",
      "1\n",
      "Enter image name(with extension): abc.jpg\n",
      "Enter data to be encoded : kirti Bardhan\n"
     ]
    },
    {
     "ename": "NameError",
     "evalue": "name 'modPix' is not defined",
     "output_type": "error",
     "traceback": [
      "\u001b[1;31m---------------------------------------------------------------------------\u001b[0m",
      "\u001b[1;31mNameError\u001b[0m                                 Traceback (most recent call last)",
      "\u001b[1;32m<ipython-input-12-ca69be5904dc>\u001b[0m in \u001b[0;36m<module>\u001b[1;34m\u001b[0m\n\u001b[0;32m     14\u001b[0m \u001b[1;33m\u001b[0m\u001b[0m\n\u001b[0;32m     15\u001b[0m     \u001b[1;31m# Calling main function\u001b[0m\u001b[1;33m\u001b[0m\u001b[1;33m\u001b[0m\u001b[1;33m\u001b[0m\u001b[0m\n\u001b[1;32m---> 16\u001b[1;33m     \u001b[0mmain\u001b[0m\u001b[1;33m(\u001b[0m\u001b[1;33m)\u001b[0m\u001b[1;33m\u001b[0m\u001b[1;33m\u001b[0m\u001b[0m\n\u001b[0m",
      "\u001b[1;32m<ipython-input-12-ca69be5904dc>\u001b[0m in \u001b[0;36mmain\u001b[1;34m()\u001b[0m\n\u001b[0;32m      3\u001b[0m                         \"1. Encode\\n 2. Decode\\n\")) \n\u001b[0;32m      4\u001b[0m     \u001b[1;32mif\u001b[0m \u001b[1;33m(\u001b[0m\u001b[0ma\u001b[0m \u001b[1;33m==\u001b[0m \u001b[1;36m1\u001b[0m\u001b[1;33m)\u001b[0m\u001b[1;33m:\u001b[0m\u001b[1;33m\u001b[0m\u001b[1;33m\u001b[0m\u001b[0m\n\u001b[1;32m----> 5\u001b[1;33m         \u001b[0mencode\u001b[0m\u001b[1;33m(\u001b[0m\u001b[1;33m)\u001b[0m\u001b[1;33m\u001b[0m\u001b[1;33m\u001b[0m\u001b[0m\n\u001b[0m\u001b[0;32m      6\u001b[0m \u001b[1;33m\u001b[0m\u001b[0m\n\u001b[0;32m      7\u001b[0m     \u001b[1;32melif\u001b[0m \u001b[1;33m(\u001b[0m\u001b[0ma\u001b[0m \u001b[1;33m==\u001b[0m \u001b[1;36m2\u001b[0m\u001b[1;33m)\u001b[0m\u001b[1;33m:\u001b[0m\u001b[1;33m\u001b[0m\u001b[1;33m\u001b[0m\u001b[0m\n",
      "\u001b[1;32m<ipython-input-10-05b1adbd2f01>\u001b[0m in \u001b[0;36mencode\u001b[1;34m()\u001b[0m\n\u001b[0;32m      8\u001b[0m \u001b[1;33m\u001b[0m\u001b[0m\n\u001b[0;32m      9\u001b[0m     \u001b[0mnewimg\u001b[0m \u001b[1;33m=\u001b[0m \u001b[0mimage\u001b[0m\u001b[1;33m.\u001b[0m\u001b[0mcopy\u001b[0m\u001b[1;33m(\u001b[0m\u001b[1;33m)\u001b[0m\u001b[1;33m\u001b[0m\u001b[1;33m\u001b[0m\u001b[0m\n\u001b[1;32m---> 10\u001b[1;33m     \u001b[0mencode_enc\u001b[0m\u001b[1;33m(\u001b[0m\u001b[0mnewimg\u001b[0m\u001b[1;33m,\u001b[0m \u001b[0mdata\u001b[0m\u001b[1;33m)\u001b[0m\u001b[1;33m\u001b[0m\u001b[1;33m\u001b[0m\u001b[0m\n\u001b[0m\u001b[0;32m     11\u001b[0m \u001b[1;33m\u001b[0m\u001b[0m\n\u001b[0;32m     12\u001b[0m     \u001b[0mnew_img_name\u001b[0m \u001b[1;33m=\u001b[0m \u001b[0minput\u001b[0m\u001b[1;33m(\u001b[0m\u001b[1;34m\"Enter the name of new image(with extension): \"\u001b[0m\u001b[1;33m)\u001b[0m\u001b[1;33m\u001b[0m\u001b[1;33m\u001b[0m\u001b[0m\n",
      "\u001b[1;32m<ipython-input-9-27948328ad00>\u001b[0m in \u001b[0;36mencode_enc\u001b[1;34m(newimg, data)\u001b[0m\n\u001b[0;32m      3\u001b[0m     \u001b[1;33m(\u001b[0m\u001b[0mx\u001b[0m\u001b[1;33m,\u001b[0m \u001b[0my\u001b[0m\u001b[1;33m)\u001b[0m \u001b[1;33m=\u001b[0m \u001b[1;33m(\u001b[0m\u001b[1;36m0\u001b[0m\u001b[1;33m,\u001b[0m \u001b[1;36m0\u001b[0m\u001b[1;33m)\u001b[0m\u001b[1;33m\u001b[0m\u001b[1;33m\u001b[0m\u001b[0m\n\u001b[0;32m      4\u001b[0m \u001b[1;33m\u001b[0m\u001b[0m\n\u001b[1;32m----> 5\u001b[1;33m     \u001b[1;32mfor\u001b[0m \u001b[0mpixel\u001b[0m \u001b[1;32min\u001b[0m \u001b[0mmodPix\u001b[0m\u001b[1;33m(\u001b[0m\u001b[0mnewimg\u001b[0m\u001b[1;33m.\u001b[0m\u001b[0mgetdata\u001b[0m\u001b[1;33m(\u001b[0m\u001b[1;33m)\u001b[0m\u001b[1;33m,\u001b[0m \u001b[0mdata\u001b[0m\u001b[1;33m)\u001b[0m\u001b[1;33m:\u001b[0m\u001b[1;33m\u001b[0m\u001b[1;33m\u001b[0m\u001b[0m\n\u001b[0m\u001b[0;32m      6\u001b[0m \u001b[1;33m\u001b[0m\u001b[0m\n\u001b[0;32m      7\u001b[0m         \u001b[1;31m# Putting modified pixels in the new image\u001b[0m\u001b[1;33m\u001b[0m\u001b[1;33m\u001b[0m\u001b[1;33m\u001b[0m\u001b[0m\n",
      "\u001b[1;31mNameError\u001b[0m: name 'modPix' is not defined"
     ]
    }
   ],
   "source": [
    "def main(): \n",
    "    a = int(input(\":: Welcome to Steganography ::\\n\"\n",
    "                        \"1. Encode\\n 2. Decode\\n\")) \n",
    "    if (a == 1): \n",
    "        encode() \n",
    "          \n",
    "    elif (a == 2): \n",
    "        print(\"Decoded word- \" + decode()) \n",
    "    else: \n",
    "        raise Exception(\"Enter correct input\") \n",
    "          \n",
    "# Driver Code \n",
    "if __name__ == '__main__' : \n",
    "      \n",
    "    # Calling main function \n",
    "    main() "
   ]
  },
  {
   "cell_type": "code",
   "execution_count": null,
   "metadata": {},
   "outputs": [],
   "source": []
  }
 ],
 "metadata": {
  "kernelspec": {
   "display_name": "Python 3",
   "language": "python",
   "name": "python3"
  },
  "language_info": {
   "codemirror_mode": {
    "name": "ipython",
    "version": 3
   },
   "file_extension": ".py",
   "mimetype": "text/x-python",
   "name": "python",
   "nbconvert_exporter": "python",
   "pygments_lexer": "ipython3",
   "version": "3.8.5"
  }
 },
 "nbformat": 4,
 "nbformat_minor": 4
}
